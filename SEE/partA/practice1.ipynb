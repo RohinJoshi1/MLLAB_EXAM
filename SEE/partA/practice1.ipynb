{
 "cells": [
  {
   "cell_type": "markdown",
   "metadata": {},
   "source": [
    "KNN"
   ]
  },
  {
   "cell_type": "code",
   "execution_count": 1,
   "metadata": {},
   "outputs": [],
   "source": [
    "import numpy as np\n",
    "from scipy import stats\n"
   ]
  },
  {
   "cell_type": "code",
   "execution_count": 2,
   "metadata": {},
   "outputs": [],
   "source": [
    "class KNN:\n",
    "    def __init__(self,k,metric) :\n",
    "        self.k = k\n",
    "        self.metric =metric \n",
    "    def fit(self,x_train,y_train):\n",
    "        self.x_train = x_train\n",
    "        self.y_train = y_train \n",
    "    \n",
    "    def predict(self,x_test):\n",
    "        y_pred = []\n",
    "        m = x_test.shape[0]\n",
    "        n = self.x_train.shape[0]\n",
    "        for i in range(m):\n",
    "            distances = [] \n",
    "            for j in range(n):\n",
    "                if self.metric == 'euclidean':\n",
    "                    d = np.sqrt(np.sum(np.square(x_test[i,:]-self.x_train[j:])))\n",
    "                else:\n",
    "                    d = np.absolute(x_test[i,:]-self.x_train[j:])\n",
    "                distances.append(d,self.y_train[j])\n",
    "            distances = sorted(distances)\n",
    "            neighbours = []\n",
    "            for item in range(self.k):\n",
    "                neighbours.append(distances[item][1])\n",
    "            y_pred.append(stats.mode(neighbours)[0][0]) \n",
    "        \n",
    "        return y_pred"
   ]
  },
  {
   "cell_type": "code",
   "execution_count": null,
   "metadata": {},
   "outputs": [],
   "source": []
  }
 ],
 "metadata": {
  "kernelspec": {
   "display_name": "Python 3.9.6 ('venv': venv)",
   "language": "python",
   "name": "python3"
  },
  "language_info": {
   "codemirror_mode": {
    "name": "ipython",
    "version": 3
   },
   "file_extension": ".py",
   "mimetype": "text/x-python",
   "name": "python",
   "nbconvert_exporter": "python",
   "pygments_lexer": "ipython3",
   "version": "3.9.6"
  },
  "orig_nbformat": 4,
  "vscode": {
   "interpreter": {
    "hash": "b492a306fe82728507f3c644fa9d1b655eec71cb4481541665ec52ce28be12eb"
   }
  }
 },
 "nbformat": 4,
 "nbformat_minor": 2
}
