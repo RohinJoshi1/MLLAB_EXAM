{
 "cells": [
  {
   "cell_type": "markdown",
   "metadata": {},
   "source": [
    "K means clustering"
   ]
  },
  {
   "cell_type": "code",
   "execution_count": 37,
   "metadata": {},
   "outputs": [],
   "source": [
    "import numpy as np \n",
    "import random"
   ]
  },
  {
   "cell_type": "code",
   "execution_count": 38,
   "metadata": {},
   "outputs": [],
   "source": [
    "class KMC:\n",
    "    def __init__(self,k=3,iterations=100) :\n",
    "        self.k = k\n",
    "        self.iterations=iterations\n",
    "        self.centroids = None\n",
    "    \n",
    "        \n",
    "    def fit_predict(self,X):\n",
    "        random_index = random.sample(range(0,X.shape[0]),self.k)\n",
    "        self.centroids = X[random_index]\n",
    "        for i in range(self.iterations):\n",
    "            cluster_group = self.assign_cluster_group(X)\n",
    "            old_centroid = self.centroids \n",
    "            self.centroids = self.update_centroid(X,cluster_group)\n",
    "            if(old_centroid == self.centroids).all():\n",
    "                break \n",
    "            \n",
    "        return cluster_group\n",
    "\n",
    "    def assign_cluster_group(self,X):\n",
    "        cluster_group = []\n",
    "        distances = [] \n",
    "        #for every row in X choose centroid with min distance\n",
    "        for row in X:\n",
    "            for centroid in self.centroids:\n",
    "                d = np.sqrt(np.dot(row-centroid, row-centroid))\n",
    "                distances.append(d)\n",
    "            min_idx = distances.index(min(distances))\n",
    "            cluster_group.append(min_idx)\n",
    "            distances.clear()\n",
    "        return np.array(cluster_group)\n",
    "    \n",
    "    def update_centroid(self,X,cluster_group):\n",
    "        #Take the average of the Xs in cluster group \n",
    "        new_centroids = []\n",
    "        cluster_type = np.unique(cluster_group)\n",
    "        for type in cluster_type:\n",
    "            new_centroids.append(X[cluster_group==type].mean(axis=0))\n",
    "        return np.array(new_centroids)\n",
    "\n",
    "\n",
    "\n",
    "    \n",
    "\n",
    "\n",
    "\n",
    "    "
   ]
  },
  {
   "cell_type": "code",
   "execution_count": 39,
   "metadata": {},
   "outputs": [],
   "source": [
    "model = KMC(iterations=1000)"
   ]
  },
  {
   "cell_type": "code",
   "execution_count": 40,
   "metadata": {},
   "outputs": [],
   "source": [
    "import pandas as pd\n",
    "import matplotlib.pyplot as plt\n",
    "import seaborn as sb\n"
   ]
  },
  {
   "cell_type": "code",
   "execution_count": 41,
   "metadata": {},
   "outputs": [
    {
     "data": {
      "text/html": [
       "<div>\n",
       "<style scoped>\n",
       "    .dataframe tbody tr th:only-of-type {\n",
       "        vertical-align: middle;\n",
       "    }\n",
       "\n",
       "    .dataframe tbody tr th {\n",
       "        vertical-align: top;\n",
       "    }\n",
       "\n",
       "    .dataframe thead th {\n",
       "        text-align: right;\n",
       "    }\n",
       "</style>\n",
       "<table border=\"1\" class=\"dataframe\">\n",
       "  <thead>\n",
       "    <tr style=\"text-align: right;\">\n",
       "      <th></th>\n",
       "      <th>Unnamed: 0</th>\n",
       "      <th>Country</th>\n",
       "      <th>Child_Mort</th>\n",
       "      <th>Exports</th>\n",
       "      <th>Health</th>\n",
       "      <th>Imports</th>\n",
       "      <th>Income</th>\n",
       "      <th>Inflation</th>\n",
       "      <th>Life_Expec</th>\n",
       "      <th>Total_Fer</th>\n",
       "      <th>GDDP</th>\n",
       "    </tr>\n",
       "  </thead>\n",
       "  <tbody>\n",
       "    <tr>\n",
       "      <th>0</th>\n",
       "      <td>0</td>\n",
       "      <td>Afghanistan</td>\n",
       "      <td>90.2</td>\n",
       "      <td>10.0</td>\n",
       "      <td>7.58</td>\n",
       "      <td>44.9</td>\n",
       "      <td>1610</td>\n",
       "      <td>9.44</td>\n",
       "      <td>56.2</td>\n",
       "      <td>5.82</td>\n",
       "      <td>553</td>\n",
       "    </tr>\n",
       "    <tr>\n",
       "      <th>1</th>\n",
       "      <td>1</td>\n",
       "      <td>Albania</td>\n",
       "      <td>16.6</td>\n",
       "      <td>28.0</td>\n",
       "      <td>6.55</td>\n",
       "      <td>48.6</td>\n",
       "      <td>9930</td>\n",
       "      <td>4.49</td>\n",
       "      <td>76.3</td>\n",
       "      <td>1.65</td>\n",
       "      <td>4090</td>\n",
       "    </tr>\n",
       "    <tr>\n",
       "      <th>2</th>\n",
       "      <td>2</td>\n",
       "      <td>Algeria</td>\n",
       "      <td>27.3</td>\n",
       "      <td>38.4</td>\n",
       "      <td>4.17</td>\n",
       "      <td>31.4</td>\n",
       "      <td>12900</td>\n",
       "      <td>16.10</td>\n",
       "      <td>76.5</td>\n",
       "      <td>2.89</td>\n",
       "      <td>4460</td>\n",
       "    </tr>\n",
       "    <tr>\n",
       "      <th>3</th>\n",
       "      <td>3</td>\n",
       "      <td>Angola</td>\n",
       "      <td>119.0</td>\n",
       "      <td>62.3</td>\n",
       "      <td>2.85</td>\n",
       "      <td>42.9</td>\n",
       "      <td>5900</td>\n",
       "      <td>22.40</td>\n",
       "      <td>60.1</td>\n",
       "      <td>6.16</td>\n",
       "      <td>3530</td>\n",
       "    </tr>\n",
       "    <tr>\n",
       "      <th>4</th>\n",
       "      <td>4</td>\n",
       "      <td>Antigua and Barbuda</td>\n",
       "      <td>10.3</td>\n",
       "      <td>45.5</td>\n",
       "      <td>6.03</td>\n",
       "      <td>58.9</td>\n",
       "      <td>19100</td>\n",
       "      <td>1.44</td>\n",
       "      <td>76.8</td>\n",
       "      <td>2.13</td>\n",
       "      <td>12200</td>\n",
       "    </tr>\n",
       "  </tbody>\n",
       "</table>\n",
       "</div>"
      ],
      "text/plain": [
       "   Unnamed: 0              Country  Child_Mort  Exports  Health  Imports   \n",
       "0           0          Afghanistan        90.2     10.0    7.58     44.9  \\\n",
       "1           1              Albania        16.6     28.0    6.55     48.6   \n",
       "2           2              Algeria        27.3     38.4    4.17     31.4   \n",
       "3           3               Angola       119.0     62.3    2.85     42.9   \n",
       "4           4  Antigua and Barbuda        10.3     45.5    6.03     58.9   \n",
       "\n",
       "   Income  Inflation  Life_Expec  Total_Fer   GDDP  \n",
       "0    1610       9.44        56.2       5.82    553  \n",
       "1    9930       4.49        76.3       1.65   4090  \n",
       "2   12900      16.10        76.5       2.89   4460  \n",
       "3    5900      22.40        60.1       6.16   3530  \n",
       "4   19100       1.44        76.8       2.13  12200  "
      ]
     },
     "execution_count": 41,
     "metadata": {},
     "output_type": "execute_result"
    }
   ],
   "source": [
    "df = pd.read_csv(\"./datasets/countries.csv\")\n",
    "df.head()"
   ]
  },
  {
   "cell_type": "code",
   "execution_count": 42,
   "metadata": {},
   "outputs": [],
   "source": [
    "df.drop(columns=['Unnamed: 0'],inplace=True)"
   ]
  },
  {
   "cell_type": "code",
   "execution_count": 43,
   "metadata": {},
   "outputs": [],
   "source": [
    "from sklearn.preprocessing import LabelEncoder \n",
    "lc= LabelEncoder()\n",
    "df = df.apply(lc.fit_transform)"
   ]
  },
  {
   "cell_type": "code",
   "execution_count": 44,
   "metadata": {},
   "outputs": [],
   "source": [
    "X = df.values "
   ]
  },
  {
   "cell_type": "code",
   "execution_count": 45,
   "metadata": {},
   "outputs": [
    {
     "data": {
      "text/plain": [
       "array([[  0, 118,   5, ...,   9, 127,  12],\n",
       "       [  1,  51,  51, ...,  93,  25,  68],\n",
       "       [  2,  73,  78, ...,  95,  78,  72],\n",
       "       ...,\n",
       "       [164,  68, 132, ...,  72,  39,  37],\n",
       "       [165,  98,  60, ...,  48, 107,  37],\n",
       "       [166, 115,  75, ...,   3, 123,  40]])"
      ]
     },
     "execution_count": 45,
     "metadata": {},
     "output_type": "execute_result"
    }
   ],
   "source": [
    "X\n"
   ]
  },
  {
   "cell_type": "code",
   "execution_count": 46,
   "metadata": {},
   "outputs": [],
   "source": [
    "Y = model.fit_predict(X)"
   ]
  },
  {
   "cell_type": "code",
   "execution_count": 47,
   "metadata": {},
   "outputs": [
    {
     "data": {
      "text/plain": [
       "<matplotlib.collections.PathCollection at 0x283308b50>"
      ]
     },
     "execution_count": 47,
     "metadata": {},
     "output_type": "execute_result"
    },
    {
     "data": {
      "image/png": "[encoded data removed]",
      "text/plain": [
       "<Figure size 700x700 with 1 Axes>"
      ]
     },
     "metadata": {},
     "output_type": "display_data"
    }
   ],
   "source": [
    "plt.figure(figsize=(7,7))\n",
    "plt.scatter(X[Y==0,0],X[Y==0,1],c='red')\n",
    "plt.scatter(X[Y==1,0],X[Y==1,1],c='green')\n",
    "plt.scatter(X[Y==2,0],X[Y==2,1],c='blue')"
   ]
  },
  {
   "cell_type": "code",
   "execution_count": 48,
   "metadata": {},
   "outputs": [],
   "source": [
    "from sklearn.cluster import KMeans \n"
   ]
  },
  {
   "cell_type": "code",
   "execution_count": 49,
   "metadata": {},
   "outputs": [],
   "source": [
    "def elbow_method(X):\n",
    "    wcss = []\n",
    "    for i in range (2,11):\n",
    "        km = KMeans(n_clusters=i)\n",
    "        km.fit(X)\n",
    "        wcss.append(km.inertia_)\n",
    "    plt.plot(range(2,11),wcss)\n",
    "    plt.title(\"Elbow\")\n",
    "    plt.xlabel(\"No.of clusters\")\n",
    "    plt.ylabel(\"Inertia\")\n",
    "    plt.show()"
   ]
  },
  {
   "cell_type": "code",
   "execution_count": 50,
   "metadata": {},
   "outputs": [
    {
     "name": "stderr",
     "output_type": "stream",
     "text": [
      "/Users/rohinjoshi/Coding/codes/sem_6/ML/Lab/venv/lib/python3.9/site-packages/sklearn/cluster/_kmeans.py:870: FutureWarning: The default value of `n_init` will change from 10 to 'auto' in 1.4. Set the value of `n_init` explicitly to suppress the warning\n",
      "  warnings.warn(\n",
      "/Users/rohinjoshi/Coding/codes/sem_6/ML/Lab/venv/lib/python3.9/site-packages/sklearn/cluster/_kmeans.py:870: FutureWarning: The default value of `n_init` will change from 10 to 'auto' in 1.4. Set the value of `n_init` explicitly to suppress the warning\n",
      "  warnings.warn(\n",
      "/Users/rohinjoshi/Coding/codes/sem_6/ML/Lab/venv/lib/python3.9/site-packages/sklearn/cluster/_kmeans.py:870: FutureWarning: The default value of `n_init` will change from 10 to 'auto' in 1.4. Set the value of `n_init` explicitly to suppress the warning\n",
      "  warnings.warn(\n",
      "/Users/rohinjoshi/Coding/codes/sem_6/ML/Lab/venv/lib/python3.9/site-packages/sklearn/cluster/_kmeans.py:870: FutureWarning: The default value of `n_init` will change from 10 to 'auto' in 1.4. Set the value of `n_init` explicitly to suppress the warning\n",
      "  warnings.warn(\n",
      "/Users/rohinjoshi/Coding/codes/sem_6/ML/Lab/venv/lib/python3.9/site-packages/sklearn/cluster/_kmeans.py:870: FutureWarning: The default value of `n_init` will change from 10 to 'auto' in 1.4. Set the value of `n_init` explicitly to suppress the warning\n",
      "  warnings.warn(\n",
      "/Users/rohinjoshi/Coding/codes/sem_6/ML/Lab/venv/lib/python3.9/site-packages/sklearn/cluster/_kmeans.py:870: FutureWarning: The default value of `n_init` will change from 10 to 'auto' in 1.4. Set the value of `n_init` explicitly to suppress the warning\n",
      "  warnings.warn(\n",
      "/Users/rohinjoshi/Coding/codes/sem_6/ML/Lab/venv/lib/python3.9/site-packages/sklearn/cluster/_kmeans.py:870: FutureWarning: The default value of `n_init` will change from 10 to 'auto' in 1.4. Set the value of `n_init` explicitly to suppress the warning\n",
      "  warnings.warn(\n",
      "/Users/rohinjoshi/Coding/codes/sem_6/ML/Lab/venv/lib/python3.9/site-packages/sklearn/cluster/_kmeans.py:870: FutureWarning: The default value of `n_init` will change from 10 to 'auto' in 1.4. Set the value of `n_init` explicitly to suppress the warning\n",
      "  warnings.warn(\n",
      "/Users/rohinjoshi/Coding/codes/sem_6/ML/Lab/venv/lib/python3.9/site-packages/sklearn/cluster/_kmeans.py:870: FutureWarning: The default value of `n_init` will change from 10 to 'auto' in 1.4. Set the value of `n_init` explicitly to suppress the warning\n",
      "  warnings.warn(\n"
     ]
    },
    {
     "data": {
      "image/png": "[encoded data removed]",
      "text/plain": [
       "<Figure size 640x480 with 1 Axes>"
      ]
     },
     "metadata": {},
     "output_type": "display_data"
    }
   ],
   "source": [
    "elbow_method(X)"
   ]
  },
  {
   "cell_type": "code",
   "execution_count": null,
   "metadata": {},
   "outputs": [],
   "source": []
  }
 ],
 "metadata": {
  "kernelspec": {
   "display_name": "Python 3.9.6 ('venv': venv)",
   "language": "python",
   "name": "python3"
  },
  "language_info": {
   "codemirror_mode": {
    "name": "ipython",
    "version": 3
   },
   "file_extension": ".py",
   "mimetype": "text/x-python",
   "name": "python",
   "nbconvert_exporter": "python",
   "pygments_lexer": "ipython3",
   "version": "3.9.6"
  },
  "orig_nbformat": 4,
  "vscode": {
   "interpreter": {
    "hash": "b492a306fe82728507f3c644fa9d1b655eec71cb4481541665ec52ce28be12eb"
   }
  }
 },
 "nbformat": 4,
 "nbformat_minor": 2
}
